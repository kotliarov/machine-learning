{
 "cells": [
  {
   "cell_type": "markdown",
   "metadata": {},
   "source": [
    "### Variational Autoencoder. "
   ]
  },
  {
   "cell_type": "code",
   "execution_count": 24,
   "metadata": {},
   "outputs": [],
   "source": [
    "import os\n",
    "\n",
    "import numpy as np\n",
    "import torch\n",
    "import torch.nn.functional as F\n",
    "import torchvision as tv\n",
    "\n",
    "import matplotlib.pyplot as plt\n",
    "\n",
    "%matplotlib inline\n",
    "%config InlineBackend.figure_format = 'retina'\n"
   ]
  },
  {
   "cell_type": "markdown",
   "metadata": {},
   "source": [
    "### Load MNIST dataset."
   ]
  },
  {
   "cell_type": "code",
   "execution_count": 13,
   "metadata": {},
   "outputs": [],
   "source": [
    "#transform = tv.transforms.Compose([tv.transforms.ToTensor()])\n",
    "transform = tv.transforms.Compose([tv.transforms.ToTensor(),\n",
    "                                tv.transforms.Normalize((0.5, 0.5, 0.5), (0.5, 0.5, 0.5))])\n",
    "\n",
    "datasets = {\n",
    "    'train': tv.datasets.MNIST(os.path.join('mnist', 'train'), \n",
    "                               train=True, \n",
    "                               download=True, \n",
    "                               transform=transform),\n",
    "    'test': tv.datasets.MNIST(os.path.join('mnist', 'test'), \n",
    "                              train=False, \n",
    "                              download=True, \n",
    "                              transform=transform),    \n",
    "}\n",
    "\n",
    "dataloaders = {\n",
    "    name: torch.utils.data.DataLoader(value, batch_size=64, shuffle=True) for name, value in datasets.items()\n",
    "}    \n"
   ]
  },
  {
   "cell_type": "code",
   "execution_count": 18,
   "metadata": {},
   "outputs": [],
   "source": [
    "def imshow(image, ax=None, title=None, normalize=True):\n",
    "    \"\"\"Imshow for Tensor.\"\"\"\n",
    "    if ax is None:\n",
    "        fig, ax = plt.subplots()\n",
    "    image = image.numpy().transpose((1, 2, 0))\n",
    "\n",
    "    if normalize:\n",
    "        mean = np.array([0.5, .5, 0.5])\n",
    "        std = np.array([0.5, 0.5, 0.5])\n",
    "        image = std * image + mean\n",
    "        image = np.clip(image, 0, 1)\n",
    "\n",
    "    ax.imshow(image)\n",
    "    ax.spines['top'].set_visible(False)\n",
    "    ax.spines['right'].set_visible(False)\n",
    "    ax.spines['left'].set_visible(False)\n",
    "    ax.spines['bottom'].set_visible(False)\n",
    "    ax.tick_params(axis='both', length=0)\n",
    "    ax.set_xticklabels('')\n",
    "    ax.set_yticklabels('')\n",
    "\n",
    "    return ax"
   ]
  },
  {
   "cell_type": "code",
   "execution_count": 19,
   "metadata": {},
   "outputs": [
    {
     "data": {
      "text/plain": [
       "torch.Size([64, 1, 28, 28])"
      ]
     },
     "execution_count": 19,
     "metadata": {},
     "output_type": "execute_result"
    },
    {
     "data": {
      "image/png": "[encoded data removed]",
      "text/plain": [
       "<Figure size 432x288 with 1 Axes>"
      ]
     },
     "metadata": {
      "image/png": {
       "height": 233,
       "width": 233
      }
     },
     "output_type": "display_data"
    }
   ],
   "source": [
    "image, label = next(iter(dataloaders['train']))\n",
    "imshow(image[0])\n",
    "image.shape"
   ]
  },
  {
   "cell_type": "markdown",
   "metadata": {},
   "source": [
    "#### Define model for training Variational Auto Encoder."
   ]
  },
  {
   "cell_type": "code",
   "execution_count": 51,
   "metadata": {},
   "outputs": [],
   "source": [
    "class Model(torch.nn.Module):\n",
    "    def __init__(self, input_size, code_size, hidden_size):\n",
    "        super(Model, self).__init__()\n",
    "        self.code_size = code_size\n",
    "        self.input_size = input_size\n",
    "        self.encoder_fc1 = torch.nn.Linear(input_size, hidden_size)\n",
    "        self.encoder_fc2 = torch.nn.Linear(hidden_size, code_size*2)\n",
    "        self.decoder_fc1 = torch.nn.Linear(code_size, hidden_size)\n",
    "        self.decoder_fc2 = torch.nn.Linear(hidden_size, input_size*2)\n",
    "        self.z = torch.nn.Parameter(torch.Tensor(code_size), requires_grad=True)\n",
    "\n",
    "    def forward(self, x):\n",
    "        x = F.relu(self.encoder_fc1(x))\n",
    "        x = F.relu(self.encoder_fc2(x))\n",
    "        e = torch.normal(torch.zeros(self.code_size), torch.ones(self.code_size))\n",
    "        mu = x[:, :self.code_size]\n",
    "        sigma = torch.sqrt(torch.exp(x[:, self.code_size: ]))\n",
    "#        print(\"shape: {} e: {} sigma: {}\".format(x.shape, e, sigma))\n",
    "        self.z = torch.nn.Parameter(mu + e*sigma) #x[:self.code_size] + e * torch.sqrt(torch.exp(x[self.code_size: ]))\n",
    "        x = F.relu(self.decoder_fc1(self.z))\n",
    "        x = F.relu(self.decoder_fc2(x))\n",
    "        e = torch.normal(torch.zeros(self.input_size), torch.ones(self.input_size))\n",
    "        return x[:, :self.input_size] + e * x[:, self.input_size: ] \n",
    "                                  \n",
    "        "
   ]
  },
  {
   "cell_type": "code",
   "execution_count": 60,
   "metadata": {},
   "outputs": [
    {
     "name": "stdout",
     "output_type": "stream",
     "text": [
      "Shape: torch.Size([64, 1, 28, 28])\n",
      "z shape: torch.Size([64, 2])\n",
      "y_hat: torch.Size([64, 784])\n"
     ]
    },
    {
     "data": {
      "image/png": "[encoded data removed]",
      "text/plain": [
       "<Figure size 432x288 with 1 Axes>"
      ]
     },
     "metadata": {
      "image/png": {
       "height": 233,
       "width": 233
      }
     },
     "output_type": "display_data"
    }
   ],
   "source": [
    "N = 28*28\n",
    "model = Model(N, 2, 500)\n",
    "for x, y in iter(dataloaders['train']):\n",
    "    model.train()\n",
    "    print(\"Shape: {}\".format(x.shape))\n",
    "    x.resize_(x.shape[0], N)\n",
    "#    x, y = x.to(device), y.to(device)\n",
    "    y_hat = model(x)\n",
    "    print (\"y_hat: {}\".format(y_hat.shape))\n",
    "    im= y_hat.detach().numpy()\n",
    "    im.resize(x.shape[0], 1, 28, 28)\n",
    "    imshow(torch.Tensor(im[0]))\n",
    "    break\n"
   ]
  },
  {
   "cell_type": "code",
   "execution_count": null,
   "metadata": {},
   "outputs": [],
   "source": []
  }
 ],
 "metadata": {
  "kernelspec": {
   "display_name": "Python 3",
   "language": "python",
   "name": "python3"
  },
  "language_info": {
   "codemirror_mode": {
    "name": "ipython",
    "version": 3
   },
   "file_extension": ".py",
   "mimetype": "text/x-python",
   "name": "python",
   "nbconvert_exporter": "python",
   "pygments_lexer": "ipython3",
   "version": "3.6.5"
  }
 },
 "nbformat": 4,
 "nbformat_minor": 2
}
