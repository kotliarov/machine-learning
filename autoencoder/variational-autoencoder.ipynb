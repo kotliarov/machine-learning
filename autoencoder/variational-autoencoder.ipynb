{
 "cells": [
  {
   "cell_type": "markdown",
   "metadata": {},
   "source": [
    "### Variational Autoencoder. "
   ]
  },
  {
   "cell_type": "code",
   "execution_count": 1,
   "metadata": {},
   "outputs": [],
   "source": [
    "import os\n",
    "\n",
    "import numpy as np\n",
    "import torch\n",
    "import torch.nn.functional as F\n",
    "import torchvision as tv\n",
    "\n",
    "import matplotlib.pyplot as plt\n",
    "\n",
    "%matplotlib inline\n",
    "%config InlineBackend.figure_format = 'retina'\n"
   ]
  },
  {
   "cell_type": "markdown",
   "metadata": {},
   "source": [
    "### Load MNIST dataset."
   ]
  },
  {
   "cell_type": "code",
   "execution_count": 2,
   "metadata": {},
   "outputs": [],
   "source": [
    "transform = tv.transforms.Compose([tv.transforms.ToTensor()])\n",
    "#transform = tv.transforms.Compose([tv.transforms.ToTensor(),\n",
    "#                                tv.transforms.Normalize((0.5, 0.5, 0.5), (0.5, 0.5, 0.5))])\n",
    "\n",
    "datasets = {\n",
    "    'train': tv.datasets.MNIST(os.path.join('mnist', 'train'), \n",
    "                               train=True, \n",
    "                               download=True, \n",
    "                               transform=transform),\n",
    "    'test': tv.datasets.MNIST(os.path.join('mnist', 'test'), \n",
    "                              train=False, \n",
    "                              download=True, \n",
    "                              transform=transform),    \n",
    "}\n",
    "\n",
    "dataloaders = {\n",
    "    name: torch.utils.data.DataLoader(value, batch_size=100, shuffle=True) for name, value in datasets.items()\n",
    "}    \n"
   ]
  },
  {
   "cell_type": "code",
   "execution_count": 3,
   "metadata": {},
   "outputs": [],
   "source": [
    "def imshow(image, ax=None, title=None, normalize=True):\n",
    "    \"\"\"Imshow for Tensor.\"\"\"\n",
    "    if ax is None:\n",
    "        fig, ax = plt.subplots()\n",
    "    image = image.numpy().transpose((1, 2, 0))\n",
    "\n",
    "    if normalize:\n",
    "        mean = np.array([0.5, .5, 0.5])\n",
    "        std = np.array([0.5, 0.5, 0.5])\n",
    "        image = std * image + mean\n",
    "        image = np.clip(image, 0, 1)\n",
    "\n",
    "    ax.imshow(image)\n",
    "    ax.spines['top'].set_visible(False)\n",
    "    ax.spines['right'].set_visible(False)\n",
    "    ax.spines['left'].set_visible(False)\n",
    "    ax.spines['bottom'].set_visible(False)\n",
    "    ax.tick_params(axis='both', length=0)\n",
    "    ax.set_xticklabels('')\n",
    "    ax.set_yticklabels('')\n",
    "\n",
    "    return ax"
   ]
  },
  {
   "cell_type": "code",
   "execution_count": 4,
   "metadata": {},
   "outputs": [
    {
     "data": {
      "text/plain": [
       "torch.Size([100, 1, 28, 28])"
      ]
     },
     "execution_count": 4,
     "metadata": {},
     "output_type": "execute_result"
    },
    {
     "data": {
      "image/png": "[encoded data removed]",
      "text/plain": [
       "<Figure size 432x288 with 1 Axes>"
      ]
     },
     "metadata": {
      "image/png": {
       "height": 233,
       "width": 233
      }
     },
     "output_type": "display_data"
    }
   ],
   "source": [
    "image, label = next(iter(dataloaders['train']))\n",
    "imshow(image[0])\n",
    "image.shape"
   ]
  },
  {
   "cell_type": "markdown",
   "metadata": {},
   "source": [
    "#### Define model for training Variational Auto Encoder."
   ]
  },
  {
   "cell_type": "code",
   "execution_count": 5,
   "metadata": {},
   "outputs": [],
   "source": [
    "class Model(torch.nn.Module):\n",
    "    def __init__(self, input_size, code_size, hidden_size):\n",
    "        super(Model, self).__init__()\n",
    "        self.code_size = code_size # size of latent vector z.\n",
    "        self.input_size = input_size\n",
    "        self.encoder_fc1 = torch.nn.Linear(input_size, hidden_size)\n",
    "        self.fc_mu = torch.nn.Linear(hidden_size, code_size)\n",
    "        self.fc_logvar = torch.nn.Linear(hidden_size, code_size)\n",
    "        \n",
    "        self.decoder_fc1 = torch.nn.Linear(code_size, hidden_size)\n",
    "        self.decoder_fc2 = torch.nn.Linear(hidden_size, input_size)\n",
    "\n",
    "    def fit(self, dataloader, device, num_epochs, learn_rate):\n",
    "        \"\"\"\n",
    "        \"\"\"    \n",
    "        optimizer  = torch.optim.Adam(self.parameters(), lr=learn_rate)\n",
    "\n",
    "        train_loss = []\n",
    "        test_loss = []\n",
    "        for epoch in range(num_epochs):\n",
    "            acc = []\n",
    "            for x, _ in iter(dataloader('train')):\n",
    "                self.train()\n",
    "                x = x.to(device)\n",
    "                optimizer.zero_grad()\n",
    "                x_hat, mu, logvar = self.forward(x)\n",
    "                loss = Model.vae_loss(x_hat, x, mu, logvar)\n",
    "                acc.append(loss.item())\n",
    "                loss.backward()\n",
    "                optimizer.step()\n",
    "            train_loss.append(np.mean(acc))\n",
    "            loss = self.validate(dataloader('test'), device)\n",
    "            test_loss.append(loss)\n",
    "            print(\"Epoch={} Loss={}\".format(epoch, loss))\n",
    "        return train_loss, test_loss\n",
    "    \n",
    "    def validate(self, dataloader, device):\n",
    "        self.eval()\n",
    "        with torch.no_grad():\n",
    "            acc = []\n",
    "            for x, _ in iter(dataloader):\n",
    "                x = x.to(device)\n",
    "                x_hat, mu, logvar = self.forward(x)\n",
    "                loss = Model.vae_loss(x_hat, x, mu, logvar)\n",
    "                acc.append(loss.item())\n",
    "            return np.mean(acc)\n",
    "        \n",
    "    def encode(self, x):\n",
    "        \"\"\" VAE encoder step.\n",
    "            Return vectors mu and log_variance for\n",
    "            distribution Q(z|x) that approximates P(z|x).\n",
    "        \"\"\"\n",
    "        h = F.relu(self.encoder_fc1(x))\n",
    "        return self.fc_mu(h), self.fc_logvar(h)\n",
    "\n",
    "    def decode(self, z):\n",
    "        \"\"\" VAE decoder step.\n",
    "            Return reconstructed vector x_hat.\n",
    "        \"\"\"\n",
    "        h = F.relu(self.decoder_fc1(z))\n",
    "        return torch.sigmoid(self.decoder_fc2(h))\n",
    "\n",
    "    def reparam(self, mu, logvar):\n",
    "        \"\"\" Return vector representing latent state - z.\n",
    "            Sample z - latent vector - from \n",
    "            distribution Q(z|x).\n",
    "        \"\"\"\n",
    "        if self.training:\n",
    "            sigma = torch.exp(0.5*logvar)\n",
    "            e = torch.randn_like(sigma)\n",
    "            return e.mul(sigma).add_(mu)\n",
    "        else:\n",
    "            return mu\n",
    "        \n",
    "    def forward(self, x):\n",
    "        \"\"\" Forward step VAE encoder / decoder.\n",
    "        \"\"\"\n",
    "        mu, logvar = self.encode(x.view(-1, self.input_size))\n",
    "        z = self.reparam(mu, logvar)\n",
    "        return self.decode(z), mu, logvar\n",
    "    \n",
    "    def infer(self, x):\n",
    "        \"\"\" Return z - latent state sampled from Q(z|x)\n",
    "        \"\"\"\n",
    "        self.eval()\n",
    "        with torch.no_grad():\n",
    "            mu, logvar = self.encode(x.view(-1, self.input_size))\n",
    "            return self.reparam(mu, logvar)\n",
    "        \n",
    "    @staticmethod\n",
    "    def vae_loss(x_hat, x, mu, log_variance):\n",
    "        \"\"\" Return value of lower bound of data log likelihood:\n",
    "                sum of reconstruction error and divergence between\n",
    "                Q(z|x) and P(z|x).\n",
    "        \"\"\"\n",
    "        batch_size, x_size = x_hat.shape\n",
    "        bce = F.binary_cross_entropy(x_hat, x.view(-1, x_size))\n",
    "\n",
    "        divergence = -0.5 * torch.sum(1. + log_variance - mu.pow(2) - log_variance.exp())\n",
    "        divergence /= (batch_size * x_size)\n",
    "        return bce + divergence\n"
   ]
  },
  {
   "cell_type": "code",
   "execution_count": 6,
   "metadata": {},
   "outputs": [],
   "source": [
    "def make_device(use_gpu):\n",
    "    \"\"\" Return device.\n",
    "    \"\"\"\n",
    "    return torch.device(\"cuda:0\" if torch.cuda.is_available() else \"cpu\") \\\n",
    "           if use_gpu \\\n",
    "           else torch.device(\"cpu\")"
   ]
  },
  {
   "cell_type": "code",
   "execution_count": null,
   "metadata": {},
   "outputs": [
    {
     "name": "stdout",
     "output_type": "stream",
     "text": [
      "Epoch=0 Loss=0.21452903538942336\n",
      "Epoch=1 Loss=0.20618663236498833\n"
     ]
    }
   ],
   "source": [
    "N = 28*28\n",
    "model = Model(N, 2, 500)\n",
    "device = make_device(True)\n",
    "model.to(device)\n",
    "model.fit(lambda name: dataloaders[name], device, 3, 0.001)\n"
   ]
  },
  {
   "cell_type": "code",
   "execution_count": null,
   "metadata": {},
   "outputs": [],
   "source": [
    "model.eval()\n",
    "with torch.no_grad():\n",
    "    for x, y in iter(dataloaders['train']):\n",
    "        x_hat, _, _ = model.forward(x)\n",
    "        im = x_hat.detach().numpy()\n",
    "        im.resize(x_hat.shape[0], 1, 28, 28)\n",
    "        imshow(torch.Tensor(im[0]))\n",
    "                  \n",
    "          # for the first 128 batch of the epoch, show the first 8 input digits\n",
    "          # with right below them the reconstructed output digits\n",
    "        n = min(x.size(0), 8)\n",
    "        comparison = torch.cat([x[:n],\n",
    "                                  x_hat.view(x.shape[0], 1, 28, 28)[:n]])\n",
    "        tv.utils.save_image(comparison.data.cpu(),\n",
    "                     'reconstruction_' + str(1) + '.png', nrow=n)\n",
    "\n",
    "        break"
   ]
  },
  {
   "cell_type": "markdown",
   "metadata": {},
   "source": [
    "##### Visualize clustering"
   ]
  },
  {
   "cell_type": "code",
   "execution_count": null,
   "metadata": {},
   "outputs": [],
   "source": [
    "def plot_hidden_state(model, dataloader):\n",
    "    x1 = []\n",
    "    x2 = []\n",
    "    label = []\n",
    "    for x, y in iter(dataloader):\n",
    "        z = model.infer(x)\n",
    "        x1.extend(z[:, 0].numpy())\n",
    "        x2.extend(z[:, 1].numpy())\n",
    "        label.extend(y)\n",
    "    plt.scatter(x1, x2, c=label, cmap='tab10')\n",
    "    plt.colorbar()\n",
    "    plt.show() "
   ]
  },
  {
   "cell_type": "code",
   "execution_count": null,
   "metadata": {},
   "outputs": [],
   "source": [
    "plot_hidden_state(model, dataloaders['test'])"
   ]
  },
  {
   "cell_type": "code",
   "execution_count": null,
   "metadata": {},
   "outputs": [],
   "source": []
  }
 ],
 "metadata": {
  "kernelspec": {
   "display_name": "Python 3",
   "language": "python",
   "name": "python3"
  },
  "language_info": {
   "codemirror_mode": {
    "name": "ipython",
    "version": 3
   },
   "file_extension": ".py",
   "mimetype": "text/x-python",
   "name": "python",
   "nbconvert_exporter": "python",
   "pygments_lexer": "ipython3",
   "version": "3.6.5"
  }
 },
 "nbformat": 4,
 "nbformat_minor": 2
}
